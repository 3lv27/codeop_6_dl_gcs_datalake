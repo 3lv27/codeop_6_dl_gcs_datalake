{
 "cells": [
  {
   "cell_type": "markdown",
   "id": "d46c8e32-6381-44b2-a522-238359b0606c",
   "metadata": {},
   "source": [
    "# Spark SQL with pySpark"
   ]
  },
  {
   "cell_type": "markdown",
   "id": "e355437c-f3b8-4e13-8c6f-7a4203959afc",
   "metadata": {},
   "source": [
    "Answer the following questions"
   ]
  },
  {
   "cell_type": "code",
   "execution_count": 1,
   "id": "9a0e2c1f-1fea-493e-872f-5a4fdf691019",
   "metadata": {},
   "outputs": [],
   "source": [
    "from pyspark.sql import SparkSession"
   ]
  },
  {
   "cell_type": "code",
   "execution_count": 2,
   "id": "7099a616-fe1e-48b8-bfb8-d85be20a045a",
   "metadata": {},
   "outputs": [],
   "source": [
    "spark = SparkSession.builder \\\n",
    "    .master(\"local\") \\\n",
    "    .config(\"google.cloud.auth.service.account.json.keyfile\", \"< path to your key>\") \\\n",
    "    .config(\"spark.executor.memory\", \"3g\") \\\n",
    "    .appName(\"GCS_DataLake\") \\\n",
    "    .getOrCreate()"
   ]
  },
  {
   "cell_type": "code",
   "execution_count": null,
   "id": "4f0ffc3a-b882-4a64-86e0-f6ff05b293eb",
   "metadata": {},
   "outputs": [],
   "source": [
    "gcs_path = \"gs://landing_zone_codeop_datalakes_demo/folder_1/products.csv\""
   ]
  },
  {
   "cell_type": "code",
   "execution_count": null,
   "id": "c65da0db-daf5-493c-834f-192be3cc3898",
   "metadata": {},
   "outputs": [],
   "source": [
    "df=spark.read.csv(gcs_path, header=True)\n",
    "df.show()"
   ]
  }
 ],
 "metadata": {
  "kernelspec": {
   "display_name": "Python 3 (ipykernel)",
   "language": "python",
   "name": "python3"
  },
  "language_info": {
   "codemirror_mode": {
    "name": "ipython",
    "version": 3
   },
   "file_extension": ".py",
   "mimetype": "text/x-python",
   "name": "python",
   "nbconvert_exporter": "python",
   "pygments_lexer": "ipython3",
   "version": "3.9.10"
  }
 },
 "nbformat": 4,
 "nbformat_minor": 5
}
